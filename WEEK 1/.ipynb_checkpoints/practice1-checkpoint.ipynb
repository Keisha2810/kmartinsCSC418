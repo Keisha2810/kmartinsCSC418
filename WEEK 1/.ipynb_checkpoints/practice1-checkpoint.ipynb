{
 "cells": [
  {
   "cell_type": "markdown",
   "id": "003a4873",
   "metadata": {},
   "source": [
    "# Reading an Image in OpenCV"
   ]
  },
  {
   "cell_type": "code",
   "execution_count": null,
   "id": "f568947c",
   "metadata": {},
   "outputs": [],
   "source": [
    "# Importing the OpenCV Library \n",
    "import cv2\n",
    "\n",
    "# path\n",
    "path = 'lagos.jpg'\n",
    "\n",
    "# Reading the image using imread() function\n",
    "img = cv2. imread (path)\n",
    "\n",
    "#Window name in which image is displayed\n",
    "window_name = 'Display Image'\n",
    "\n",
    "# Display image\n",
    "cv2. imshow(window_name, img)\n",
    "\n",
    "# Hold the window\n",
    "cv2. waitKey(0)\n",
    "\n",
    "# Remove/delete created GUI window from screen and memory\n",
    "cv2. destroyAllwindows ()"
   ]
  },
  {
   "cell_type": "code",
   "execution_count": null,
   "id": "2d69ad47",
   "metadata": {},
   "outputs": [],
   "source": []
  }
 ],
 "metadata": {
  "kernelspec": {
   "display_name": "Python 3 (ipykernel)",
   "language": "python",
   "name": "python3"
  },
  "language_info": {
   "codemirror_mode": {
    "name": "ipython",
    "version": 3
   },
   "file_extension": ".py",
   "mimetype": "text/x-python",
   "name": "python",
   "nbconvert_exporter": "python",
   "pygments_lexer": "ipython3",
   "version": "3.9.13"
  }
 },
 "nbformat": 4,
 "nbformat_minor": 5
}
