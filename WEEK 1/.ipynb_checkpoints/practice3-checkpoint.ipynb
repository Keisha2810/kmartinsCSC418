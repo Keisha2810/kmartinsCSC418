{
 "cells": [
  {
   "cell_type": "markdown",
   "id": "3b451511",
   "metadata": {},
   "source": [
    "# Saving an Image"
   ]
  },
  {
   "cell_type": "code",
   "execution_count": 14,
   "id": "7a608d27",
   "metadata": {
    "scrolled": true
   },
   "outputs": [
    {
     "name": "stdout",
     "output_type": "stream",
     "text": [
      "Before saving image:\n",
      "['.DS_Store', 'marilyn.jpeg', 'lagos.jpg', 'practice2.ipynb', '.ipynb_checkpoints', 'practice3.ipynb', 'practice1.ipynb']\n",
      "After saving image:\n",
      "['.DS_Store', 'marilyn.jpeg', 'grayImage.jpg', 'lagos.jpg', 'practice2.ipynb', '.ipynb_checkpoints', 'practice3.ipynb', 'practice1.ipynb']\n",
      "Successfully saved\n"
     ]
    }
   ],
   "source": [
    "# Python program to explain cv2. imwrite() method\n",
    "# importing cv2\n",
    "import cv2\n",
    "\n",
    "# importing os module\n",
    "import os\n",
    "\n",
    "# Image path\n",
    "image_path = r'/Users/macuser/Desktop/CSC 418/WEEK 1/marilyn.jpeg'\n",
    "\n",
    "# Image directory\n",
    "directory = r'/Users/macuser/Desktop/CSC 418/WEEK 1'\n",
    "\n",
    "# Using cv2. imread() method to read the image\n",
    "img = cv2.imread(image_path, 0)\n",
    "\n",
    "# Change the current directory to specified directory\n",
    "os.chdir(directory)\n",
    "\n",
    "# List files and directories\n",
    "print(\"Before saving image:\")\n",
    "print(os. listdir (directory))\n",
    "\n",
    "# Filename\n",
    "filename = 'grayImage.jpg'\n",
    "\n",
    "# Using cv2. imwrite() method save the image\n",
    "cv2.imwrite(filename,img)\n",
    "\n",
    "# List files and directories\n",
    "print(\"After saving image:\")\n",
    "print(os. listdir(directory))\n",
    "\n",
    "print('Successfully saved')"
   ]
  },
  {
   "cell_type": "code",
   "execution_count": null,
   "id": "9a673a88",
   "metadata": {},
   "outputs": [],
   "source": []
  }
 ],
 "metadata": {
  "kernelspec": {
   "display_name": "Python 3 (ipykernel)",
   "language": "python",
   "name": "python3"
  },
  "language_info": {
   "codemirror_mode": {
    "name": "ipython",
    "version": 3
   },
   "file_extension": ".py",
   "mimetype": "text/x-python",
   "name": "python",
   "nbconvert_exporter": "python",
   "pygments_lexer": "ipython3",
   "version": "3.9.13"
  }
 },
 "nbformat": 4,
 "nbformat_minor": 5
}
