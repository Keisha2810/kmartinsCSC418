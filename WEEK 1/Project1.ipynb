{
 "cells": [
  {
   "cell_type": "code",
   "execution_count": 2,
   "id": "d250de7c",
   "metadata": {},
   "outputs": [
    {
     "name": "stdout",
     "output_type": "stream",
     "text": [
      "Enter your first name: Adaora\n",
      "Enter your password: 8\n",
      "Invalid password.\n"
     ]
    }
   ],
   "source": [
    "import csv\n",
    "import cv2\n",
    "\n",
    "# Function to calculate password based on the number of alphabets in the surname\n",
    "def calculate_password(surname):\n",
    "    return sum(1 for char in surname if char.isalpha())\n",
    "\n",
    "# Function to perform facial recognition\n",
    "def perform_facial_recognition(image_path, first_name, middle_name, surname):\n",
    "    # Load the image\n",
    "    img = cv2.imread(image_path)\n",
    "    \n",
    "    # Resize image to a specific width and height\n",
    "    resized_img = cv2.resize(img, (700, 700))  # Adjust the width and height as needed\n",
    "    \n",
    "    gray = cv2.cvtColor(img, cv2.COLOR_BGR2GRAY)\n",
    "    \n",
    "    # Add text annotations\n",
    "    text = f\"Name: {first_name} {middle_name} {surname}\"\n",
    "    cv2.putText(resized_img, text, (10, 30), cv2.FONT_HERSHEY_SIMPLEX, 1, (255, 255, 255), 2)\n",
    " \n",
    "    # Display the image with detected faces and annotations\n",
    "    cv2.imshow('Facial Recognition Result', resized_img)\n",
    "    cv2.waitKey(0)\n",
    "    cv2.destroyAllWindows()\n",
    "\n",
    "# Read the CSV file and store the data\n",
    "data = []\n",
    "with open('UMC_Profiles/umc_members.csv', 'r') as file:\n",
    "    reader = csv.DictReader(file)\n",
    "    for row in reader:\n",
    "        data.append(row)\n",
    "\n",
    "# Prompt the user for username and password\n",
    "username = input(\"Enter your first name: \").strip().capitalize()\n",
    "\n",
    "# Check if the username exists and if so, verify the password\n",
    "for row in data:\n",
    "    if row['FirstName'] == username:\n",
    "        password = calculate_password(row['Surname'])\n",
    "        input_password = int(input(\"Enter your password: \"))\n",
    "        if input_password == password:\n",
    "            print(\"Login successful.\")\n",
    "            file_image_path = f\"UMC_Profiles/{username}.jpg\"\n",
    "            perform_facial_recognition(file_image_path, row['FirstName'], row['MiddleName'], row['Surname'])\n",
    "            break\n",
    "        else:\n",
    "            print(\"Invalid password.\")\n",
    "        break\n",
    "else:\n",
    "    print(\"User not found.\")\n"
   ]
  },
  {
   "cell_type": "code",
   "execution_count": null,
   "id": "af706643",
   "metadata": {},
   "outputs": [],
   "source": []
  },
  {
   "cell_type": "code",
   "execution_count": null,
   "id": "0969f596",
   "metadata": {},
   "outputs": [],
   "source": []
  }
 ],
 "metadata": {
  "kernelspec": {
   "display_name": "Python 3 (ipykernel)",
   "language": "python",
   "name": "python3"
  },
  "language_info": {
   "codemirror_mode": {
    "name": "ipython",
    "version": 3
   },
   "file_extension": ".py",
   "mimetype": "text/x-python",
   "name": "python",
   "nbconvert_exporter": "python",
   "pygments_lexer": "ipython3",
   "version": "3.9.13"
  }
 },
 "nbformat": 4,
 "nbformat_minor": 5
}
