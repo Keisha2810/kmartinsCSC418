{
 "cells": [
  {
   "cell_type": "code",
   "execution_count": null,
   "id": "5d87ce72",
   "metadata": {},
   "outputs": [],
   "source": [
    "import cv2\n",
    "\n",
    "image = cv2.imread('color-space.jpg')\n",
    "\n",
    "# The split method seprates color spaces\n",
    "B, G, R = cv2.split(image)\n",
    "\n",
    "# Corresponding channels are separated\n",
    "cv2.imshow(\"original\",image)\n",
    "cv2.waitKey (0)\n",
    "\n",
    "cv2.imshow(\"blue\",B)\n",
    "cv2.waitKey (0)\n",
    "\n",
    "cv2.imshow( \"Green\",G)\n",
    "cv2.waitKey(0)\n",
    "\n",
    "cv2.imshow (\"red\",R)\n",
    "cv2.waitKey (0)\n",
    "\n",
    "cv2.destroyAllWindows()"
   ]
  },
  {
   "cell_type": "code",
   "execution_count": null,
   "id": "0b04112d",
   "metadata": {},
   "outputs": [],
   "source": []
  }
 ],
 "metadata": {
  "kernelspec": {
   "display_name": "Python 3 (ipykernel)",
   "language": "python",
   "name": "python3"
  },
  "language_info": {
   "codemirror_mode": {
    "name": "ipython",
    "version": 3
   },
   "file_extension": ".py",
   "mimetype": "text/x-python",
   "name": "python",
   "nbconvert_exporter": "python",
   "pygments_lexer": "ipython3",
   "version": "3.9.13"
  }
 },
 "nbformat": 4,
 "nbformat_minor": 5
}
